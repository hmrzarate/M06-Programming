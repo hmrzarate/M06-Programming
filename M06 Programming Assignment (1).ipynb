{
 "cells": [
  {
   "cell_type": "code",
   "execution_count": 26,
   "id": "8232de8a",
   "metadata": {
    "scrolled": true
   },
   "outputs": [
    {
     "name": "stdout",
     "output_type": "stream",
     "text": [
      "Writing 's' (str) to file 'today.txt'.\n",
      "September 30, 2022\n",
      "\n",
      "20:21:33\n"
     ]
    }
   ],
   "source": [
    "# Program name: Module 6 Programming Assignment\n",
    "# Author: Heather Zarate\n",
    "# Date: September 30, 2022\n",
    "\n",
    "#13.1 acivity\n",
    "\n",
    "s ='September 30, 2022'\n",
    "\n",
    "\n",
    "# 13.2 activity\n",
    "%store s >today.txt\n",
    "today_string = open(\"today.txt\", \"r\")\n",
    "for line in today_string:\n",
    "    print (line)\n",
    "today_string.close()\n",
    "\n",
    "\n",
    "\n",
    "#15.1 activity\n",
    "\n",
    "import multiprocessing\n",
    "import random\n",
    "import time\n",
    "\n",
    "from time import sleep\n",
    "from random import randint\n",
    "\n",
    "e = time.localtime()\n",
    "\n",
    "print (time.strftime(\"%H:%M:%S\"))\n",
    "\n",
    "    \n",
    "\n"
   ]
  },
  {
   "cell_type": "code",
   "execution_count": null,
   "id": "70a84f90",
   "metadata": {},
   "outputs": [],
   "source": []
  },
  {
   "cell_type": "code",
   "execution_count": null,
   "id": "70414d9a",
   "metadata": {},
   "outputs": [],
   "source": []
  }
 ],
 "metadata": {
  "kernelspec": {
   "display_name": "Python 3 (ipykernel)",
   "language": "python",
   "name": "python3"
  },
  "language_info": {
   "codemirror_mode": {
    "name": "ipython",
    "version": 3
   },
   "file_extension": ".py",
   "mimetype": "text/x-python",
   "name": "python",
   "nbconvert_exporter": "python",
   "pygments_lexer": "ipython3",
   "version": "3.9.12"
  }
 },
 "nbformat": 4,
 "nbformat_minor": 5
}
